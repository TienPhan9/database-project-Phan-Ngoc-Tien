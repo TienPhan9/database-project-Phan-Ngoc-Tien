{
  "cells": [
    {
      "cell_type": "code",
      "execution_count": 7,
      "metadata": {
        "colab": {
          "base_uri": "https://localhost:8080/",
          "height": 266
        },
        "id": "ouiI7ztWInuM",
        "outputId": "47d99e0e-6fc5-4faa-c3fc-c5ffe02dfaf8"
      },
      "outputs": [
        {
          "data": {
            "text/html": [
              "\n",
              "  <div id=\"df-156a8df0-de2c-4d31-b5e0-04ac4e82b7cd\">\n",
              "    <div class=\"colab-df-container\">\n",
              "      <div>\n",
              "<style scoped>\n",
              "    .dataframe tbody tr th:only-of-type {\n",
              "        vertical-align: middle;\n",
              "    }\n",
              "\n",
              "    .dataframe tbody tr th {\n",
              "        vertical-align: top;\n",
              "    }\n",
              "\n",
              "    .dataframe thead th {\n",
              "        text-align: right;\n",
              "    }\n",
              "</style>\n",
              "<table border=\"1\" class=\"dataframe\">\n",
              "  <thead>\n",
              "    <tr style=\"text-align: right;\">\n",
              "      <th></th>\n",
              "      <th>id</th>\n",
              "      <th>name</th>\n",
              "      <th>phone</th>\n",
              "      <th>timeOpen</th>\n",
              "      <th>ratingAverage</th>\n",
              "      <th>details</th>\n",
              "      <th>rangePrice</th>\n",
              "      <th>Address</th>\n",
              "      <th>Longitude</th>\n",
              "      <th>Latitude</th>\n",
              "      <th>address</th>\n",
              "    </tr>\n",
              "  </thead>\n",
              "  <tbody>\n",
              "    <tr>\n",
              "      <th>0</th>\n",
              "      <td>1</td>\n",
              "      <td>030 Cuisine</td>\n",
              "      <td>+(84)0794997030</td>\n",
              "      <td>Đang mở cửa: 11:00 SA - 10:30 CH</td>\n",
              "      <td>4.5</td>\n",
              "      <td>Phong cách ẩm thực Fusion Nhật Bản, Kiểu Đức...</td>\n",
              "      <td>100.000 vnd - 400.000 vnd</td>\n",
              "      <td>8-15 Tôn Đức Thắng Khách Sạn Renaissance River...</td>\n",
              "      <td>106.7063</td>\n",
              "      <td>10.774465</td>\n",
              "      <td>Khách sạn Renaissance Riverside Sài Gòn, 8-15,...</td>\n",
              "    </tr>\n",
              "  </tbody>\n",
              "</table>\n",
              "</div>\n",
              "      <button class=\"colab-df-convert\" onclick=\"convertToInteractive('df-156a8df0-de2c-4d31-b5e0-04ac4e82b7cd')\"\n",
              "              title=\"Convert this dataframe to an interactive table.\"\n",
              "              style=\"display:none;\">\n",
              "        \n",
              "  <svg xmlns=\"http://www.w3.org/2000/svg\" height=\"24px\"viewBox=\"0 0 24 24\"\n",
              "       width=\"24px\">\n",
              "    <path d=\"M0 0h24v24H0V0z\" fill=\"none\"/>\n",
              "    <path d=\"M18.56 5.44l.94 2.06.94-2.06 2.06-.94-2.06-.94-.94-2.06-.94 2.06-2.06.94zm-11 1L8.5 8.5l.94-2.06 2.06-.94-2.06-.94L8.5 2.5l-.94 2.06-2.06.94zm10 10l.94 2.06.94-2.06 2.06-.94-2.06-.94-.94-2.06-.94 2.06-2.06.94z\"/><path d=\"M17.41 7.96l-1.37-1.37c-.4-.4-.92-.59-1.43-.59-.52 0-1.04.2-1.43.59L10.3 9.45l-7.72 7.72c-.78.78-.78 2.05 0 2.83L4 21.41c.39.39.9.59 1.41.59.51 0 1.02-.2 1.41-.59l7.78-7.78 2.81-2.81c.8-.78.8-2.07 0-2.86zM5.41 20L4 18.59l7.72-7.72 1.47 1.35L5.41 20z\"/>\n",
              "  </svg>\n",
              "      </button>\n",
              "      \n",
              "  <style>\n",
              "    .colab-df-container {\n",
              "      display:flex;\n",
              "      flex-wrap:wrap;\n",
              "      gap: 12px;\n",
              "    }\n",
              "\n",
              "    .colab-df-convert {\n",
              "      background-color: #E8F0FE;\n",
              "      border: none;\n",
              "      border-radius: 50%;\n",
              "      cursor: pointer;\n",
              "      display: none;\n",
              "      fill: #1967D2;\n",
              "      height: 32px;\n",
              "      padding: 0 0 0 0;\n",
              "      width: 32px;\n",
              "    }\n",
              "\n",
              "    .colab-df-convert:hover {\n",
              "      background-color: #E2EBFA;\n",
              "      box-shadow: 0px 1px 2px rgba(60, 64, 67, 0.3), 0px 1px 3px 1px rgba(60, 64, 67, 0.15);\n",
              "      fill: #174EA6;\n",
              "    }\n",
              "\n",
              "    [theme=dark] .colab-df-convert {\n",
              "      background-color: #3B4455;\n",
              "      fill: #D2E3FC;\n",
              "    }\n",
              "\n",
              "    [theme=dark] .colab-df-convert:hover {\n",
              "      background-color: #434B5C;\n",
              "      box-shadow: 0px 1px 3px 1px rgba(0, 0, 0, 0.15);\n",
              "      filter: drop-shadow(0px 1px 2px rgba(0, 0, 0, 0.3));\n",
              "      fill: #FFFFFF;\n",
              "    }\n",
              "  </style>\n",
              "\n",
              "      <script>\n",
              "        const buttonEl =\n",
              "          document.querySelector('#df-156a8df0-de2c-4d31-b5e0-04ac4e82b7cd button.colab-df-convert');\n",
              "        buttonEl.style.display =\n",
              "          google.colab.kernel.accessAllowed ? 'block' : 'none';\n",
              "\n",
              "        async function convertToInteractive(key) {\n",
              "          const element = document.querySelector('#df-156a8df0-de2c-4d31-b5e0-04ac4e82b7cd');\n",
              "          const dataTable =\n",
              "            await google.colab.kernel.invokeFunction('convertToInteractive',\n",
              "                                                     [key], {});\n",
              "          if (!dataTable) return;\n",
              "\n",
              "          const docLinkHtml = 'Like what you see? Visit the ' +\n",
              "            '<a target=\"_blank\" href=https://colab.research.google.com/notebooks/data_table.ipynb>data table notebook</a>'\n",
              "            + ' to learn more about interactive tables.';\n",
              "          element.innerHTML = '';\n",
              "          dataTable['output_type'] = 'display_data';\n",
              "          await google.colab.output.renderOutput(dataTable, element);\n",
              "          const docLink = document.createElement('div');\n",
              "          docLink.innerHTML = docLinkHtml;\n",
              "          element.appendChild(docLink);\n",
              "        }\n",
              "      </script>\n",
              "    </div>\n",
              "  </div>\n",
              "  "
            ],
            "text/plain": [
              "   id         name            phone                          timeOpen  \\\n",
              "0   1  030 Cuisine  +(84)0794997030  Đang mở cửa: 11:00 SA - 10:30 CH   \n",
              "\n",
              "   ratingAverage                                            details  \\\n",
              "0            4.5  Phong cách ẩm thực Fusion Nhật Bản, Kiểu Đức...   \n",
              "\n",
              "                  rangePrice  \\\n",
              "0  100.000 vnd - 400.000 vnd   \n",
              "\n",
              "                                             Address  Longitude   Latitude  \\\n",
              "0  8-15 Tôn Đức Thắng Khách Sạn Renaissance River...   106.7063  10.774465   \n",
              "\n",
              "                                             address  \n",
              "0  Khách sạn Renaissance Riverside Sài Gòn, 8-15,...  "
            ]
          },
          "execution_count": 7,
          "metadata": {},
          "output_type": "execute_result"
        }
      ],
      "source": [
        "import pandas as pd\n",
        "data= pd.read_csv('/content/sample_data/geo_main.csv')\n",
        "data.head(1)"
      ]
    },
    {
      "cell_type": "code",
      "execution_count": 8,
      "metadata": {
        "colab": {
          "base_uri": "https://localhost:8080/"
        },
        "id": "n3HKB9vfLyJ8",
        "outputId": "7177df76-7b54-48eb-8517-73fa311c34cd"
      },
      "outputs": [
        {
          "data": {
            "text/plain": [
              "Quận 1                 1174\n",
              "Quận 3                  253\n",
              "Thành phố Thủ Đức       194\n",
              "Quận 7                   95\n",
              "Quận Bình Thạnh          84\n",
              "Quận Tân Bình            57\n",
              "Quận 5                   49\n",
              "Quận 10                  38\n",
              "Quận Phú Nhuận           34\n",
              "Quận 4                   22\n",
              "Quận Gò Vấp              12\n",
              "Huyện Nhà Bè             10\n",
              "Quận Bình Tân             5\n",
              "Quận 8                    5\n",
              "Phường Bến Nghé           5\n",
              "Quận Tân Phú              5\n",
              "Huyện Bình Chánh          4\n",
              "Quận 11                   4\n",
              "Xã Phú Mỹ Hưng            3\n",
              "Quận 12                   3\n",
              "Thành phố Dĩ An           2\n",
              "Noong Bua                 2\n",
              "Huyện Củ Chi              1\n",
              "Xã Phước Vĩnh An          1\n",
              "Thành phố Sóc Trăng       1\n",
              "Quận 6                    1\n",
              "Thị trấn Cần Thạnh        1\n",
              "Name: district, dtype: int64"
            ]
          },
          "execution_count": 8,
          "metadata": {},
          "output_type": "execute_result"
        }
      ],
      "source": [
        "def extract_district(address):\n",
        "    address_parts = address.split(\",\")\n",
        "    district = address_parts[-4].strip()\n",
        "    return district\n",
        "data['district'] = data['address'].apply(lambda x: extract_district(x))\n",
        "data['district'].value_counts()"
      ]
    },
    {
      "cell_type": "code",
      "execution_count": 9,
      "metadata": {
        "id": "4gzuDhVvNois"
      },
      "outputs": [],
      "source": [
        "data.to_csv('/content/sample_data/official.csv', index=False)"
      ]
    }
  ],
  "metadata": {
    "colab": {
      "provenance": []
    },
    "kernelspec": {
      "display_name": "Python 3",
      "name": "python3"
    },
    "language_info": {
      "name": "python"
    }
  },
  "nbformat": 4,
  "nbformat_minor": 0
}
